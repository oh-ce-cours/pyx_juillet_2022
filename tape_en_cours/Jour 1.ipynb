{
 "cells": [
  {
   "cell_type": "markdown",
   "id": "26c588bf",
   "metadata": {},
   "source": [
    "# Matin\n",
    "\n",
    "* tour de table \n",
    "* présentation de python\n",
    "* installation et début de configuration de VSCode"
   ]
  },
  {
   "cell_type": "markdown",
   "id": "b38b93dd",
   "metadata": {},
   "source": [
    "# Après-midi"
   ]
  },
  {
   "cell_type": "markdown",
   "id": "20699cb7",
   "metadata": {},
   "source": [
    "## Imports "
   ]
  },
  {
   "cell_type": "markdown",
   "id": "b5a67177",
   "metadata": {},
   "source": [
    "Il existe 3 grands type de modules\n",
    "\n",
    "* ceux intégrés de base de base => bibliothèque standard (*standart library*)\n",
    "* ceux que l'on peut installer avec `pip` => bibliothèques tierces\n",
    "    * `python -m pip install LIB_A_INSTALLER`\n",
    "    * les paquets disponibles sont sur [PyPI](https://pypi.org/)\n",
    "    * les packets pré-compilés sont disponibles sous forme de `wheel` et sont faciles à installer. Pour savoir si un wheel existe pour votre cas, il faut regarder sur PyPI dans les fichiers téléchargeables \n",
    "* "
   ]
  },
  {
   "cell_type": "code",
   "execution_count": null,
   "id": "2b2e0098",
   "metadata": {},
   "outputs": [],
   "source": []
  }
 ],
 "metadata": {
  "kernelspec": {
   "display_name": "Python 3 (ipykernel)",
   "language": "python",
   "name": "python3"
  },
  "language_info": {
   "codemirror_mode": {
    "name": "ipython",
    "version": 3
   },
   "file_extension": ".py",
   "mimetype": "text/x-python",
   "name": "python",
   "nbconvert_exporter": "python",
   "pygments_lexer": "ipython3",
   "version": "3.9.9"
  }
 },
 "nbformat": 4,
 "nbformat_minor": 5
}
