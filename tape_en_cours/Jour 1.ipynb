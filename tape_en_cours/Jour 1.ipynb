{
 "cells": [
  {
   "cell_type": "markdown",
   "id": "571dd4eb",
   "metadata": {},
   "source": [
    "# Matin\n",
    "\n",
    "* tour de table \n",
    "* présentation de python\n",
    "* installation et début de configuration de VSCode\n",
    "    * installer l'extension python \n",
    "    * `format on save` => `black enabled`\n",
    "    * `mypy enabled`, `pylint enabled`\n",
    "    * dans les arguments de pylint : `--disable=C0114` pour supprimer les messages de warnings sur les docstrings des modules "
   ]
  },
  {
   "cell_type": "markdown",
   "id": "ab5cf2c3",
   "metadata": {},
   "source": [
    "# Après-midi"
   ]
  },
  {
   "cell_type": "markdown",
   "id": "ae1fbad0",
   "metadata": {},
   "source": [
    "## Imports "
   ]
  },
  {
   "cell_type": "markdown",
   "id": "e92a310e",
   "metadata": {},
   "source": [
    "Il existe 3 grands type de modules\n",
    "\n",
    "* ceux intégrés de base de base => bibliothèque standard (*standart library*)\n",
    "* ceux que l'on peut installer avec `pip` => bibliothèques tierces\n",
    "    * `python -m pip install LIB_A_INSTALLER`\n",
    "    * les paquets disponibles sont sur [PyPI](https://pypi.org/)\n",
    "    * les packets pré-compilés sont disponibles sous forme de `wheel` et sont faciles à installer. Pour savoir si un wheel existe pour votre cas, il faut regarder sur PyPI dans les fichiers téléchargeables \n",
    "* des fichiers python dans le dossier courant \n",
    "\n",
    "Pour savoir si un module peu-être chargé, python va regarder dans le `PYTHONPATH` (accessible avec `print(sys.path)`)"
   ]
  },
  {
   "cell_type": "markdown",
   "id": "c127f87f",
   "metadata": {},
   "source": [
    "Pour savoir où un paquet est installé : \n",
    "\n",
    "```python\n",
    "import le_paquet\n",
    "print(le_paquet.__file__)\n",
    "\n",
    "# >>> import numpy\n",
    "# >>> numpy.__file__\n",
    "# '/home/mfalce/Envs/formation_python/lib/python3.6/site-packages/numpy/__init__.py'\n",
    "\n",
    "```"
   ]
  },
  {
   "cell_type": "markdown",
   "id": "3141e9c4",
   "metadata": {},
   "source": [
    "## Installation de plusieurs paquets"
   ]
  },
  {
   "cell_type": "markdown",
   "id": "6bda7b77",
   "metadata": {},
   "source": [
    "Il est possible de liste les bibliothèques tierces que nous utilisons avec `pip freeze > requirements.txt` (le nom du fichier est une convention). \n",
    "\n",
    "Exemple : \n",
    "```\n",
    "argon2-cffi==21.3.0\n",
    "argon2-cffi-bindings==21.2.0\n",
    "asttokens==2.0.5\n",
    "attrs==21.4.0\n",
    "backcall==0.2.0\n",
    "beautifulsoup4==4.11.1\n",
    "bleach==5.0.1\n",
    "...\n",
    "```\n",
    "\n",
    "On peut installer toutes les bibliothèques d'un coup en faisant : `pip install -r requirements.txt`\n",
    "\n",
    "Pour la collaboration, il est conseillé de partager ce fichier `requirements.txt`. "
   ]
  },
  {
   "cell_type": "markdown",
   "id": "8f692fa8",
   "metadata": {},
   "source": [
    "## Environnements virtuels"
   ]
  },
  {
   "cell_type": "markdown",
   "id": "d3744196",
   "metadata": {},
   "source": [
    "* un environnement virtuel permet d'avoir des versions de bibliothèques différentes sur la même version de python\n",
    "* il s'agit simplement d'un dossier avec une arboresence précise, pour le supprimer, il suffit de supprimer le répertoire\n",
    "* il ne faut pas renommer un venv (il y a des manipulations à faire en plus)\n",
    "\n",
    "\n",
    "### Création et utilisation\n",
    "\n",
    "* création (une seule fois) : `la_version_de_python -m venv LE_NOM_DU_VENV` (par convention, on l'appelle `venv`)\n",
    "* activation (à chaques fois) : \n",
    "    * unix : `source LE_NOM_DU_VENV/bin/activate`\n",
    "    * windows : `LE_NOM_DU_VENV\\Scripts\\activate`\n",
    "    \n",
    "Une fois que l'environnement est activé, on sait le python qui est utilisé. "
   ]
  },
  {
   "cell_type": "markdown",
   "id": "03b0431c",
   "metadata": {},
   "source": [
    "# Syntaxe"
   ]
  },
  {
   "cell_type": "code",
   "execution_count": 6,
   "id": "aee16d39",
   "metadata": {},
   "outputs": [
    {
     "name": "stdout",
     "output_type": "stream",
     "text": [
      "10\n"
     ]
    }
   ],
   "source": [
    "i = 0\n",
    "while i < 10:\n",
    "    i = i + 1\n",
    "print(i)"
   ]
  },
  {
   "cell_type": "code",
   "execution_count": 7,
   "id": "e0a501ad",
   "metadata": {},
   "outputs": [],
   "source": [
    "a = [1, 2, 3]\n",
    "\n"
   ]
  },
  {
   "cell_type": "code",
   "execution_count": 12,
   "id": "09d71032",
   "metadata": {},
   "outputs": [
    {
     "name": "stdout",
     "output_type": "stream",
     "text": [
      "('Matthieu', 'Falce', 'Lille')\n",
      "('Axel', 'Barats', 'Hendaye')\n"
     ]
    }
   ],
   "source": [
    "personnes = [\n",
    "    (\"Matthieu\", \"Falce\", \"Lille\"), \n",
    "    (\"Axel\", \"Barats\", \"Hendaye\")\n",
    "]\n",
    "for zedrtyuhj in personnes:\n",
    "    print(zedrtyuhj)"
   ]
  },
  {
   "cell_type": "markdown",
   "id": "9216e694",
   "metadata": {},
   "source": [
    "## Dictionnaires"
   ]
  },
  {
   "cell_type": "code",
   "execution_count": 9,
   "id": "c4f5a25f",
   "metadata": {},
   "outputs": [
    {
     "data": {
      "text/plain": [
       "'ma valeur'"
      ]
     },
     "execution_count": 9,
     "metadata": {},
     "output_type": "execute_result"
    }
   ],
   "source": [
    "a = {\"ma cle\": \"ma valeur\"}\n",
    "a[\"ma cle\"]"
   ]
  },
  {
   "cell_type": "code",
   "execution_count": null,
   "id": "34109e88",
   "metadata": {},
   "outputs": [],
   "source": []
  }
 ],
 "metadata": {
  "kernelspec": {
   "display_name": "Python 3 (ipykernel)",
   "language": "python",
   "name": "python3"
  },
  "language_info": {
   "codemirror_mode": {
    "name": "ipython",
    "version": 3
   },
   "file_extension": ".py",
   "mimetype": "text/x-python",
   "name": "python",
   "nbconvert_exporter": "python",
   "pygments_lexer": "ipython3",
   "version": "3.9.9"
  }
 },
 "nbformat": 4,
 "nbformat_minor": 5
}
