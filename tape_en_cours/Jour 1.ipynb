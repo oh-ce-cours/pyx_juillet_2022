{
 "cells": [
  {
   "cell_type": "markdown",
   "id": "6e2e3121",
   "metadata": {},
   "source": [
    "# Matin\n",
    "\n",
    "* tour de table \n",
    "* présentation de python\n",
    "* installation et début de configuration de VSCode"
   ]
  },
  {
   "cell_type": "markdown",
   "id": "f50f8404",
   "metadata": {},
   "source": [
    "# Après-midi"
   ]
  },
  {
   "cell_type": "markdown",
   "id": "90d24380",
   "metadata": {},
   "source": [
    "## Imports "
   ]
  },
  {
   "cell_type": "markdown",
   "id": "f060fabe",
   "metadata": {},
   "source": [
    "Il existe 3 grands type de modules\n",
    "\n",
    "* ceux intégrés de base de base => bibliothèque standard (*standart library*)\n",
    "* ceux que l'on peut installer avec `pip` => bibliothèques tierces\n",
    "    * `python -m pip install LIB_A_INSTALLER`\n",
    "    * les paquets disponibles sont sur [PyPI](https://pypi.org/)\n",
    "    * les packets pré-compilés sont disponibles sous forme de `wheel` et sont faciles à installer. Pour savoir si un wheel existe pour votre cas, il faut regarder sur PyPI dans les fichiers téléchargeables \n",
    "* des fichiers python dans le dossier courant \n",
    "\n",
    "Pour savoir si un module peu-être chargé, python va regarder dans le `PYTHONPATH` (accessible avec `print(sys.path)`)"
   ]
  },
  {
   "cell_type": "code",
   "execution_count": null,
   "id": "1bf34866",
   "metadata": {},
   "outputs": [],
   "source": []
  }
 ],
 "metadata": {
  "kernelspec": {
   "display_name": "Python 3 (ipykernel)",
   "language": "python",
   "name": "python3"
  },
  "language_info": {
   "codemirror_mode": {
    "name": "ipython",
    "version": 3
   },
   "file_extension": ".py",
   "mimetype": "text/x-python",
   "name": "python",
   "nbconvert_exporter": "python",
   "pygments_lexer": "ipython3",
   "version": "3.9.9"
  }
 },
 "nbformat": 4,
 "nbformat_minor": 5
}
