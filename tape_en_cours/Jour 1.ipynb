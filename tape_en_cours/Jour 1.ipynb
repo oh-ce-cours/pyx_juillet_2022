{
 "cells": [
  {
   "cell_type": "markdown",
   "id": "c4b2597c",
   "metadata": {},
   "source": [
    "# Matin\n",
    "\n",
    "* tour de table \n",
    "* présentation de python\n",
    "* installation et début de configuration de VSCode"
   ]
  },
  {
   "cell_type": "markdown",
   "id": "3412e0d5",
   "metadata": {},
   "source": [
    "# Après-midi"
   ]
  },
  {
   "cell_type": "markdown",
   "id": "48645416",
   "metadata": {},
   "source": [
    "## Imports "
   ]
  },
  {
   "cell_type": "markdown",
   "id": "0dedb724",
   "metadata": {},
   "source": [
    "Il existe 3 grands type de modules\n",
    "\n",
    "* ceux intégrés de base de base => bibliothèque standard (*standart library"
   ]
  }
 ],
 "metadata": {
  "kernelspec": {
   "display_name": "Python 3 (ipykernel)",
   "language": "python",
   "name": "python3"
  },
  "language_info": {
   "codemirror_mode": {
    "name": "ipython",
    "version": 3
   },
   "file_extension": ".py",
   "mimetype": "text/x-python",
   "name": "python",
   "nbconvert_exporter": "python",
   "pygments_lexer": "ipython3",
   "version": "3.9.9"
  }
 },
 "nbformat": 4,
 "nbformat_minor": 5
}
