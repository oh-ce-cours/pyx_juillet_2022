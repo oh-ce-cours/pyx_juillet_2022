{
 "cells": [
  {
   "cell_type": "markdown",
   "id": "7250a15c",
   "metadata": {},
   "source": [
    "# Matin\n",
    "\n",
    "* tour de table \n",
    "* présentation de python\n",
    "* installation et début de configuration de VSCode\n",
    "    * installer l'extension python \n",
    "    * `format on save` => `black enabled`\n",
    "    * `mypy enabled`, `pylint enabled`\n",
    "    * dans les arguments de pylint : `--disable=C0114` pour supprimer les messages de warnings sur les docstrings des modules "
   ]
  },
  {
   "cell_type": "markdown",
   "id": "e40af5a4",
   "metadata": {},
   "source": [
    "# Après-midi"
   ]
  },
  {
   "cell_type": "markdown",
   "id": "3bfb4ab6",
   "metadata": {},
   "source": [
    "## Imports "
   ]
  },
  {
   "cell_type": "markdown",
   "id": "42741f39",
   "metadata": {},
   "source": [
    "Il existe 3 grands type de modules\n",
    "\n",
    "* ceux intégrés de base de base => bibliothèque standard (*standart library*)\n",
    "* ceux que l'on peut installer avec `pip` => bibliothèques tierces\n",
    "    * `python -m pip install LIB_A_INSTALLER`\n",
    "    * les paquets disponibles sont sur [PyPI](https://pypi.org/)\n",
    "    * les packets pré-compilés sont disponibles sous forme de `wheel` et sont faciles à installer. Pour savoir si un wheel existe pour votre cas, il faut regarder sur PyPI dans les fichiers téléchargeables \n",
    "* des fichiers python dans le dossier courant \n",
    "\n",
    "Pour savoir si un module peu-être chargé, python va regarder dans le `PYTHONPATH` (accessible avec `print(sys.path)`)"
   ]
  },
  {
   "cell_type": "markdown",
   "id": "f41dbefc",
   "metadata": {},
   "source": [
    "Pour savoir où un paquet est installé : \n",
    "\n",
    "```python\n",
    "import le_paquet\n",
    "print(le_paquet.__file__)\n",
    "\n",
    "# >>> import numpy\n",
    "# >>> numpy.__file__\n",
    "# '/home/mfalce/Envs/formation_python/lib/python3.6/site-packages/numpy/__init__.py'\n",
    "\n",
    "```"
   ]
  },
  {
   "cell_type": "markdown",
   "id": "fe9a8522",
   "metadata": {},
   "source": [
    "## Installation de plusieurs paquets"
   ]
  },
  {
   "cell_type": "markdown",
   "id": "9bd3213c",
   "metadata": {},
   "source": [
    "Il est possible de liste les bibliothèques tierces que nous utilisons avec `pip freeze > requirements.txt` (le nom du fichier est une convention). \n",
    "\n",
    "Exemple : \n",
    "```\n",
    "argon2-cffi==21.3.0\n",
    "argon2-cffi-bindings==21.2.0\n",
    "asttokens==2.0.5\n",
    "attrs==21.4.0\n",
    "backcall==0.2.0\n",
    "beautifulsoup4==4.11.1\n",
    "bleach==5.0.1\n",
    "...\n",
    "```\n",
    "\n",
    "On peut installer toutes les bibliothèques d'un coup en faisant : `pip install -r requirements.txt`\n",
    "\n",
    "Pour la collaboration, il est conseillé de partager ce fichier `requirements.txt`. "
   ]
  },
  {
   "cell_type": "markdown",
   "id": "5ced0739",
   "metadata": {},
   "source": [
    "## Environnements virtuels"
   ]
  },
  {
   "cell_type": "markdown",
   "id": "e0105889",
   "metadata": {},
   "source": [
    "* un environnement virtuel permet d'avoir des versions de bibliothèques différentes sur la même version de python\n",
    "* il s'agit simplement d'un dossier avec une arboresence précise, pour le supprimer, il suffit de supprimer le répertoire\n",
    "* il ne faut pas renommer un venv (il y a des manipulations à faire en plus)\n",
    "\n",
    "\n",
    "### Création et utilisation\n",
    "\n",
    "* création (une seule fois) : `la_version_de_python -m venv LE_NOM_DU_VENV` (par convention, on l'appelle `venv`)\n",
    "* activation (à chaques fois) : \n",
    "    * unix : `source LE_NOM_DU_VENV/bin/activate`\n",
    "    * windows : `LE_NOM_DU_VENV\\Scripts\\activate`\n",
    "    \n",
    "Une fois que l'environnement est activé, on sait le python qui est utilisé. "
   ]
  },
  {
   "cell_type": "markdown",
   "id": "b22533a1",
   "metadata": {},
   "source": [
    "# Syntaxe"
   ]
  },
  {
   "cell_type": "code",
   "execution_count": 6,
   "id": "6d00d092",
   "metadata": {},
   "outputs": [
    {
     "name": "stdout",
     "output_type": "stream",
     "text": [
      "10\n"
     ]
    }
   ],
   "source": [
    "i = 0\n",
    "while i < 10:\n",
    "    i = i + 1\n",
    "print(i)"
   ]
  },
  {
   "cell_type": "code",
   "execution_count": 7,
   "id": "03bccc48",
   "metadata": {},
   "outputs": [],
   "source": [
    "a = [1, 2, 3]\n",
    "\n"
   ]
  },
  {
   "cell_type": "code",
   "execution_count": 17,
   "id": "d8634723",
   "metadata": {},
   "outputs": [
    {
     "name": "stdout",
     "output_type": "stream",
     "text": [
      "Falce\n",
      "Barats\n",
      "Falce\n",
      "Barats\n"
     ]
    }
   ],
   "source": [
    "personnes = [\n",
    "    (\"Matthieu\", \"Falce\", \"Lille\"), \n",
    "    (\"Axel\", \"Barats\", \"Hendaye\")\n",
    "]\n",
    "for personne in personnes:\n",
    "    print(personne[1])\n",
    "    \n",
    "index = 0\n",
    "while index < len(personnes):\n",
    "    personne = personnes[index]\n",
    "    print(personne[1])\n",
    "    index += 1 "
   ]
  },
  {
   "cell_type": "code",
   "execution_count": 22,
   "id": "d040c756",
   "metadata": {},
   "outputs": [
    {
     "name": "stdout",
     "output_type": "stream",
     "text": [
      "1\n",
      "2\n",
      "3\n",
      "4\n",
      "5\n",
      "6\n",
      "7\n",
      "8\n",
      "9\n",
      "10\n",
      "11\n",
      "12\n",
      "13\n",
      "14\n",
      "15\n",
      "16\n",
      "17\n",
      "18\n",
      "19\n",
      "20\n",
      "21\n",
      "22\n",
      "23\n",
      "24\n",
      "25\n",
      "26\n",
      "27\n",
      "28\n",
      "29\n",
      "30\n",
      "31\n",
      "32\n",
      "33\n",
      "34\n",
      "35\n",
      "36\n",
      "37\n",
      "38\n",
      "39\n",
      "40\n",
      "41\n",
      "42\n",
      "43\n",
      "44\n",
      "45\n",
      "46\n",
      "47\n",
      "48\n",
      "49\n",
      "50\n",
      "51\n",
      "52\n",
      "53\n",
      "54\n",
      "55\n",
      "56\n",
      "57\n",
      "58\n",
      "59\n",
      "60\n",
      "61\n",
      "62\n",
      "63\n",
      "64\n",
      "65\n",
      "66\n",
      "67\n",
      "68\n",
      "69\n",
      "70\n",
      "71\n",
      "72\n",
      "73\n",
      "74\n",
      "75\n",
      "76\n",
      "77\n",
      "78\n",
      "79\n",
      "80\n",
      "81\n",
      "82\n",
      "83\n",
      "84\n",
      "85\n",
      "86\n",
      "87\n",
      "88\n",
      "89\n",
      "90\n",
      "91\n",
      "92\n",
      "93\n",
      "94\n",
      "95\n",
      "96\n",
      "97\n",
      "98\n",
      "99\n",
      "100\n"
     ]
    }
   ],
   "source": [
    "nombres = range(1, 101) # 1..100 / 1:100 / 1 To 100 \n",
    "for nombre in nombres:\n",
    "    print(nombre)\n",
    "\n",
    "# ça c'est non !!\n",
    "# index = 0 \n",
    "# while index < 10:\n",
    "#     print(index)"
   ]
  },
  {
   "cell_type": "code",
   "execution_count": 25,
   "id": "e8cc429e",
   "metadata": {},
   "outputs": [
    {
     "name": "stdout",
     "output_type": "stream",
     "text": [
      "c'est un peu vrai\n"
     ]
    }
   ],
   "source": [
    "a = 1 \n",
    "if a == 0:\n",
    "    print(\"c'est vrai\")\n",
    "elif a == 1:\n",
    "    print(\"c'est un peu vrai\")\n",
    "else:\n",
    "    print(\"c'est faux\")"
   ]
  },
  {
   "cell_type": "markdown",
   "id": "be20e409",
   "metadata": {},
   "source": [
    "## Dictionnaires"
   ]
  },
  {
   "cell_type": "code",
   "execution_count": 9,
   "id": "f14736af",
   "metadata": {},
   "outputs": [
    {
     "data": {
      "text/plain": [
       "'ma valeur'"
      ]
     },
     "execution_count": 9,
     "metadata": {},
     "output_type": "execute_result"
    }
   ],
   "source": [
    "a = {\"ma cle\": \"ma valeur\"}\n",
    "a[\"ma cle\"]"
   ]
  },
  {
   "cell_type": "code",
   "execution_count": 28,
   "id": "78648cc3",
   "metadata": {},
   "outputs": [
    {
     "data": {
      "text/plain": [
       "0"
      ]
     },
     "execution_count": 28,
     "metadata": {},
     "output_type": "execute_result"
    }
   ],
   "source": [
    "6 % 2"
   ]
  },
  {
   "cell_type": "code",
   "execution_count": 27,
   "id": "e510bd87",
   "metadata": {},
   "outputs": [
    {
     "data": {
      "text/plain": [
       "5"
      ]
     },
     "execution_count": 27,
     "metadata": {},
     "output_type": "execute_result"
    }
   ],
   "source": [
    "2 * (5 // 2) + (5 % 2)"
   ]
  },
  {
   "cell_type": "code",
   "execution_count": 29,
   "id": "be25122b",
   "metadata": {},
   "outputs": [
    {
     "name": "stdout",
     "output_type": "stream",
     "text": [
      "0 0\n",
      "1 1\n",
      "2 2\n",
      "3 0\n",
      "4 1\n",
      "5 2\n",
      "6 0\n",
      "7 1\n",
      "8 2\n",
      "9 0\n"
     ]
    }
   ],
   "source": [
    "for i in range(10):\n",
    "    print(i, i%3)"
   ]
  },
  {
   "cell_type": "code",
   "execution_count": null,
   "id": "545fdacd",
   "metadata": {},
   "outputs": [],
   "source": []
  }
 ],
 "metadata": {
  "kernelspec": {
   "display_name": "Python 3 (ipykernel)",
   "language": "python",
   "name": "python3"
  },
  "language_info": {
   "codemirror_mode": {
    "name": "ipython",
    "version": 3
   },
   "file_extension": ".py",
   "mimetype": "text/x-python",
   "name": "python",
   "nbconvert_exporter": "python",
   "pygments_lexer": "ipython3",
   "version": "3.9.9"
  }
 },
 "nbformat": 4,
 "nbformat_minor": 5
}
