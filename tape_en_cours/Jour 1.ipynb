{
 "cells": [
  {
   "cell_type": "markdown",
   "id": "b3ac59fd",
   "metadata": {},
   "source": [
    "# Matin\n",
    "\n",
    "* tour de table \n",
    "* présentation de python\n",
    "* installation et début de configuration de VSCode\n",
    "    * installer l'extension python \n",
    "    * `format on save` => `black enabled`\n",
    "    * `mypy enabled`, `pylint enabled`\n",
    "    * dans les arguments de pylint : `--disable=C0114` pour supprimer les messages de warnings sur les docstrings des modules "
   ]
  },
  {
   "cell_type": "markdown",
   "id": "af7fe69d",
   "metadata": {},
   "source": [
    "# Après-midi"
   ]
  },
  {
   "cell_type": "markdown",
   "id": "bb8ad965",
   "metadata": {},
   "source": [
    "## Imports "
   ]
  },
  {
   "cell_type": "markdown",
   "id": "8b7b2f7b",
   "metadata": {},
   "source": [
    "Il existe 3 grands type de modules\n",
    "\n",
    "* ceux intégrés de base de base => bibliothèque standard (*standart library*)\n",
    "* ceux que l'on peut installer avec `pip` => bibliothèques tierces\n",
    "    * `python -m pip install LIB_A_INSTALLER`\n",
    "    * les paquets disponibles sont sur [PyPI](https://pypi.org/)\n",
    "    * les packets pré-compilés sont disponibles sous forme de `wheel` et sont faciles à installer. Pour savoir si un wheel existe pour votre cas, il faut regarder sur PyPI dans les fichiers téléchargeables \n",
    "* des fichiers python dans le dossier courant \n",
    "\n",
    "Pour savoir si un module peu-être chargé, python va regarder dans le `PYTHONPATH` (accessible avec `print(sys.path)`)"
   ]
  },
  {
   "cell_type": "markdown",
   "id": "f4d11db7",
   "metadata": {},
   "source": [
    "Pour savoir où un paquet est installé : \n",
    "\n",
    "```python\n",
    "import le_paquet\n",
    "print(le_paquet.__file__)\n",
    "\n",
    "# >>> import numpy\n",
    "# >>> numpy.__file__\n",
    "# '/home/mfalce/Envs/formation_python/lib/python3.6/site-packages/numpy/__init__.py'\n",
    "\n",
    "```"
   ]
  },
  {
   "cell_type": "markdown",
   "id": "617ec4cb",
   "metadata": {},
   "source": [
    "## Installation de plusieurs paquets"
   ]
  },
  {
   "cell_type": "markdown",
   "id": "5269dedf",
   "metadata": {},
   "source": [
    "Il est possible de liste les bibliothèque"
   ]
  }
 ],
 "metadata": {
  "kernelspec": {
   "display_name": "Python 3 (ipykernel)",
   "language": "python",
   "name": "python3"
  },
  "language_info": {
   "codemirror_mode": {
    "name": "ipython",
    "version": 3
   },
   "file_extension": ".py",
   "mimetype": "text/x-python",
   "name": "python",
   "nbconvert_exporter": "python",
   "pygments_lexer": "ipython3",
   "version": "3.9.9"
  }
 },
 "nbformat": 4,
 "nbformat_minor": 5
}
