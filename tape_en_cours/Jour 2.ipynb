{
 "cells": [
  {
   "cell_type": "markdown",
   "id": "7c62d223",
   "metadata": {},
   "source": [
    "# Matin"
   ]
  },
  {
   "cell_type": "markdown",
   "id": "e8f5604c",
   "metadata": {},
   "source": [
    "## Rappel du jour précédent"
   ]
  },
  {
   "cell_type": "markdown",
   "id": "11f058a6",
   "metadata": {},
   "source": [
    "* historique du langage (créé par Guido Van Rossum en 1989)\n",
    "* python : syntaxe + interpréteur (on peut le changer selon les besoins : CPython, Jython, IronPython, PyPy) + compilateur (Cython)\n",
    "* syntaxe facile d'accès\n",
    "* VSCode pour éditer les codes\n",
    "    * intégrer avec d'autres outils : black (formattage automatique du code), mypy + pylint (outils d'analyse statique, \"le collègue relou\") \n",
    "* modules\n",
    "    * qu'est-ce que c'est ? des fichiers python (on peut importer n'importe quel fichier .py tant qu'il est au bon endroit)\n",
    "    * 3 types de modules\n",
    "        * la bibliothèque standard : fourni avec python\n",
    "        * tierces : que l'on installe avec `pip` qui (par défaut) les télécharge depuis `PyPI`\n",
    "        * locales : des fichiers python placés où l'on veut (python va aller regarder dans le `PYTHONPATH`, que l'on peut voir avec `import sys; sys.path`)\n",
    "        \n",
    "* installation de modules\n",
    "    * on peut lister les bibliothèques installées avec pip en faisant `pip freeze > requirements.txt`\n",
    "    * on peut installer cette liste avec `pip install -r requirements.txt`\n",
    "\n",
    "* environnements virtuels\n",
    "    * environnement \"neuf\" isolé de l'installation python système \n",
    "    * règle Matthieu Falce : 1 projet = 1 environnement virtuel \n",
    "    * cycle de vie\n",
    "        * création (1 fois) : `CHEMIN_DU_PYTHON_DINTERET/python -m venv NOM_DU_VENV`\n",
    "        * utilisation (activation) :\n",
    "            * windows : `CHEMIN_DU_VENV\\Scripts\\activate`\n",
    "            * unix : `. CHEMIN_DU_VENV/bin/activate`\n",
    "            * dans tous les cas, on peut aller chercher le chemin du binaire `python` : `. CHEMIN_DU_VENV/bin/python`\n",
    "            * dans tous les cas, avec VSCode : on peut changer l'interpréteur en bas à droite de la barre bleue\n",
    "        * désactivation : `deactivate` / soit on ferme la fenetre shell\n",
    "        * suppression : on supprime le répertoire\n",
    "        \n",
    "* syntaxe : \n",
    "    * types scalaires (ceux qui sont \"unique\") : `int` / `float` \n",
    "    * types conteneurs \n",
    "        * `list = [1, 2]` \n",
    "        * `tuple = (1, 2)`\n",
    "        * `dictionnaire = {1: 2}`\n",
    "        * `set = set([1, 2])`\n",
    "    * 2 types de boucles `for` (on passe d'éléments en éléments) et `while` (condition)"
   ]
  },
  {
   "cell_type": "markdown",
   "id": "c6d57fc7",
   "metadata": {},
   "source": [
    "# Correction"
   ]
  },
  {
   "cell_type": "code",
   "execution_count": 7,
   "id": "13b433f9",
   "metadata": {},
   "outputs": [
    {
     "name": "stdout",
     "output_type": "stream",
     "text": [
      "j'ai 3 pommes\n"
     ]
    }
   ],
   "source": [
    "nombre = 3\n",
    "\n",
    "phrase = f\"j'ai {nombre} pommes\"\n",
    "print(phrase)"
   ]
  },
  {
   "cell_type": "code",
   "execution_count": 12,
   "id": "ff63c2e0",
   "metadata": {},
   "outputs": [
    {
     "name": "stdout",
     "output_type": "stream",
     "text": [
      "Matthieu\n",
      "fini\n"
     ]
    }
   ],
   "source": [
    "mots = [\"#salut\", \"#c'est\", \"Matthieu\"]\n",
    "for mot in mots:\n",
    "    if \"#\" in mot:\n",
    "        continue\n",
    "    print(mot)\n",
    "print(\"fini\")"
   ]
  },
  {
   "cell_type": "code",
   "execution_count": null,
   "id": "fd2187d5",
   "metadata": {},
   "outputs": [],
   "source": []
  }
 ],
 "metadata": {
  "kernelspec": {
   "display_name": "Python 3 (ipykernel)",
   "language": "python",
   "name": "python3"
  },
  "language_info": {
   "codemirror_mode": {
    "name": "ipython",
    "version": 3
   },
   "file_extension": ".py",
   "mimetype": "text/x-python",
   "name": "python",
   "nbconvert_exporter": "python",
   "pygments_lexer": "ipython3",
   "version": "3.9.9"
  }
 },
 "nbformat": 4,
 "nbformat_minor": 5
}
