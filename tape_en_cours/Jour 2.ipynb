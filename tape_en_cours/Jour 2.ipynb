{
 "cells": [
  {
   "cell_type": "markdown",
   "id": "9add5090",
   "metadata": {},
   "source": [
    "# Matin"
   ]
  },
  {
   "cell_type": "markdown",
   "id": "b43ae839",
   "metadata": {},
   "source": [
    "## Rappel du jour précédent"
   ]
  },
  {
   "cell_type": "markdown",
   "id": "4d03ae70",
   "metadata": {},
   "source": [
    "* historique du langage (créé par Guido Van Rossum en 1989)\n",
    "* python : syntaxe + interpréteur (on peut le changer selon les besoins : CPython, Jython, IronPython, PyPy) + compilateur (Cython)\n",
    "* syntaxe facile d'accès\n",
    "* VSCode pour éditer les codes\n",
    "    * intégrer avec d'autres outils : black (formattage automatique du code), mypy + pylint (outils d'analyse statique, \"le collègue relou\") \n",
    "* modules\n",
    "    * qu'est-ce que c'est ? des fichiers python (on peut importer n'importe quel fichier .py tant qu'il est au bon endroit)\n",
    "    * 3 types de modules\n",
    "        * la bibliothèque standard : fourni avec python\n",
    "        * tierces : que l'on installe avec `pip` qui (par défaut) les télécharge depuis `PyPI`\n",
    "        * locales : des fichiers python placés où l'on veut (python va aller regarder dans le `PYTHONPATH`, que l'on peut voir avec `import sys; sys.path`)\n",
    "        \n",
    "* installation de modules\n",
    "    * on peut lister les bibliothèques installées avec pip en faisant `pip freeze > requirements.txt`\n",
    "    * on peut installer cette liste avec `pip install -r requirements.txt`\n",
    "\n",
    "* environnements virtuels\n",
    "    * environnement \"neuf\" isolé de l'installation python système \n",
    "    * règle Matthieu Falce : 1 projet = 1 environnement virtuel \n",
    "    * cycle de vie\n",
    "        * création (1 fois) : `CHEMIN_DU_PYTHON_DINTERET/python -m venv NOM_DU_VENV`\n",
    "        * utilisation (activation) :\n",
    "            * windows : `CHEMIN_DU_VENV\\Scripts\\activate`\n",
    "            * unix : `. CHEMIN_DU_VENV/bin/activate`\n",
    "            * dans tous les cas, on peut aller chercher le chemin du binaire `python` : `. CHEMIN_DU_VENV/bin/python`\n",
    "            * dans tous les cas, avec VSCode : on peut changer l'interpréteur en bas à droite de la barre bleue\n",
    "        * désactivation : `deactivate` / soit on ferme la fenetre shell\n",
    "        * suppression : on supprime le répertoire\n",
    "        \n",
    "* syntaxe : \n",
    "    * types scalaires (ceux qui sont \"unique\") : `int` / `float` \n",
    "    * types conteneurs \n",
    "        * `list = [1, 2]` \n",
    "        * `tuple = (1, 2)`\n",
    "        * `dictionnaire = {1: 2}`\n",
    "        * `set = set([1, 2])`\n",
    "    * 2 types de boucles `for` (on passe d'éléments en éléments) et `while` (condition)"
   ]
  },
  {
   "cell_type": "markdown",
   "id": "a7f3044d",
   "metadata": {},
   "source": [
    "# Correction"
   ]
  },
  {
   "cell_type": "markdown",
   "id": "524c3816",
   "metadata": {},
   "source": [
    "## f-string \n",
    "\n",
    "On peut intégrer des variables directement dans une chaine en utilisant une fstring `f\"{variable}\"`"
   ]
  },
  {
   "cell_type": "code",
   "execution_count": 18,
   "id": "cc78a82a",
   "metadata": {},
   "outputs": [
    {
     "name": "stdout",
     "output_type": "stream",
     "text": [
      "j'ai 3 pommes\n"
     ]
    }
   ],
   "source": [
    "nombre = 3\n",
    "\n",
    "phrase = f\"j'ai {nombre} pommes\"\n",
    "print(phrase)"
   ]
  },
  {
   "cell_type": "markdown",
   "id": "c405fbc0",
   "metadata": {},
   "source": [
    "## Contrôle des boucles : `continue` / `break`"
   ]
  },
  {
   "cell_type": "code",
   "execution_count": 12,
   "id": "9cee14d3",
   "metadata": {},
   "outputs": [
    {
     "name": "stdout",
     "output_type": "stream",
     "text": [
      "Matthieu\n",
      "fini\n"
     ]
    }
   ],
   "source": [
    "mots = [\"#salut\", \"#c'est\", \"Matthieu\"]\n",
    "for mot in mots:\n",
    "    if mot.startswith(\"#\"):\n",
    "        continue\n",
    "    print(mot)\n",
    "print(\"fini\")"
   ]
  },
  {
   "cell_type": "markdown",
   "id": "c437e3f9",
   "metadata": {},
   "source": [
    "# Rappel du matin"
   ]
  },
  {
   "cell_type": "markdown",
   "id": "3e0ffafc",
   "metadata": {},
   "source": [
    "* exercices\n",
    "    * boucles for / while\n",
    "    * conditions \n",
    "    * exceptions\n"
   ]
  },
  {
   "cell_type": "code",
   "execution_count": 20,
   "id": "374c04e9",
   "metadata": {},
   "outputs": [
    {
     "name": "stdout",
     "output_type": "stream",
     "text": [
      "page1\n",
      "page2\n",
      "page3\n",
      "page4\n",
      "page5\n"
     ]
    }
   ],
   "source": [
    "livre = [\"page1\", \"page2\", \"page3\", \"page4\", \"page5\"]\n",
    "for page in livre:  # livre (à droite du in doit etre itérable)\n",
    "    print(page)"
   ]
  },
  {
   "cell_type": "code",
   "execution_count": 25,
   "id": "88d73756",
   "metadata": {},
   "outputs": [
    {
     "ename": "TypeError",
     "evalue": "'int' object is not iterable",
     "output_type": "error",
     "traceback": [
      "\u001b[0;31m---------------------------------------------------------------------------\u001b[0m",
      "\u001b[0;31mTypeError\u001b[0m                                 Traceback (most recent call last)",
      "Input \u001b[0;32mIn [25]\u001b[0m, in \u001b[0;36m<cell line: 1>\u001b[0;34m()\u001b[0m\n\u001b[0;32m----> 1\u001b[0m \u001b[38;5;28;01mfor\u001b[39;00m element \u001b[38;5;129;01min\u001b[39;00m \u001b[38;5;241m54\u001b[39m:\n\u001b[1;32m      2\u001b[0m     \u001b[38;5;28mprint\u001b[39m(element)\n",
      "\u001b[0;31mTypeError\u001b[0m: 'int' object is not iterable"
     ]
    }
   ],
   "source": [
    "for element in 54:\n",
    "    print(element)"
   ]
  },
  {
   "cell_type": "code",
   "execution_count": 73,
   "id": "cbb339ca",
   "metadata": {},
   "outputs": [
    {
     "name": "stdout",
     "output_type": "stream",
     "text": [
      "quand tout va bien\n",
      "appelé dans tous les cas\n",
      "1.0\n",
      "quand tout va bien\n",
      "appelé dans tous les cas\n",
      "1.0\n",
      "on divise par 0 ou on a un mauvais attribut <class 'ZeroDivisionError'>\n",
      "appelé dans tous les cas\n",
      "0\n",
      "on divise par 0 ou on a un mauvais attribut <class 'ZeroDivisionError'>\n",
      "appelé dans tous les cas\n",
      "0\n",
      "quand tout va bien\n",
      "appelé dans tous les cas\n",
      "1.0\n",
      "on divise par 0 ou on a un mauvais attribut <class 'ZeroDivisionError'>\n",
      "appelé dans tous les cas\n",
      "0\n",
      "on divise par 0 ou on a un mauvais attribut <class 'ZeroDivisionError'>\n",
      "appelé dans tous les cas\n",
      "0\n",
      "quand tout va bien\n",
      "appelé dans tous les cas\n",
      "1.0\n",
      "on divise par 0 ou on a un mauvais attribut <class 'ZeroDivisionError'>\n",
      "appelé dans tous les cas\n",
      "0\n",
      "on divise par 0 ou on a un mauvais attribut <class 'ZeroDivisionError'>\n",
      "appelé dans tous les cas\n",
      "0\n"
     ]
    }
   ],
   "source": [
    "import random\n",
    "for i in range(10):\n",
    "    try:\n",
    "        res = 1/random.randint(0, 1)\n",
    "    except (ZeroDivisionError, AttributeError) as e:\n",
    "        res = 0\n",
    "        print(\"on divise par 0 ou on a un mauvais attribut\", type(e))\n",
    "        # sys.exit(1)\n",
    "    except NameError:\n",
    "        res = -1\n",
    "        print(\"on n'a pas le bon nom\")\n",
    "        # sys.exit(2)\n",
    "    else:\n",
    "        print('quand tout va bien')\n",
    "    finally:\n",
    "        print(\"appelé dans tous les cas\")\n",
    "    print(res)"
   ]
  },
  {
   "cell_type": "code",
   "execution_count": 75,
   "id": "f7b475b7",
   "metadata": {},
   "outputs": [
    {
     "data": {
      "text/plain": [
       "('/home/mfalce/Documents', 'toto.txt')"
      ]
     },
     "execution_count": 75,
     "metadata": {},
     "output_type": "execute_result"
    }
   ],
   "source": [
    "import os\n",
    "os.path.split(\"/home/mfalce/Documents/toto.txt\")"
   ]
  },
  {
   "cell_type": "markdown",
   "id": "a5c1679c",
   "metadata": {},
   "source": [
    "# POO"
   ]
  },
  {
   "cell_type": "code",
   "execution_count": 103,
   "id": "83abb0f1",
   "metadata": {},
   "outputs": [
    {
     "name": "stdout",
     "output_type": "stream",
     "text": [
      "dans init <__main__.Personne object at 0x7fb831c19f70>\n",
      "          <__main__.Personne object at 0x7fb831c19f70>\n",
      "#####################\n",
      "dans init <__main__.Personne object at 0x7fb831c19b50>\n",
      "          <__main__.Personne object at 0x7fb831c19b50>\n",
      "coucou\n",
      "Bonjour, je suis Matthieu et j'ai 32 ans\n",
      "Bonjour, je suis Matthieu et j'ai 32 ans\n",
      "Bonjour, je suis Matthieu et j'ai 32 ans\n"
     ]
    }
   ],
   "source": [
    "class Personne:\n",
    "    def __init__(self, age, prenom):\n",
    "        print(\"dans init\", self)\n",
    "        self.age = age\n",
    "        self.prenom = prenom\n",
    "    \n",
    "    def ne_sert_a_rien(self):\n",
    "        print(\"coucou\")\n",
    "    \n",
    "    def se_presenter(self, nombre_de_fois):\n",
    "        self.ne_sert_a_rien()\n",
    "\n",
    "        for i in range(nombre_de_fois):\n",
    "            print(f\"Bonjour, je suis {self.prenom} et j'ai {self.age} ans\")\n",
    "    \n",
    "p1 = Personne(32, \"Matthieu\")\n",
    "print(\"         \", p1)\n",
    "print(\"#####################\")\n",
    "p2 = Personne(38, \"Nadege\")\n",
    "print(\"         \", p2)\n",
    "\n",
    "p1.se_presenter(3)\n",
    "#p2.se_presenter()"
   ]
  },
  {
   "cell_type": "code",
   "execution_count": 83,
   "id": "f4e886e9",
   "metadata": {},
   "outputs": [
    {
     "name": "stdout",
     "output_type": "stream",
     "text": [
      "Bonjour, je suis Matthieu et j'ai 32 ans\n",
      "Bonjour, je suis Matthieu et j'ai 32 ans\n"
     ]
    }
   ],
   "source": [
    "age_matthieu = 32\n",
    "prenom_matthieu = \"Matthieu\"\n",
    "\n",
    "age_nadege = 32\n",
    "prenom_nadege = \"Matthieu\"\n",
    "\n",
    "def se_presenter(prenom, age):\n",
    "    print(f\"Bonjour, je suis {prenom} et j'ai {age} ans\")\n",
    "\n",
    "se_presenter(prenom_matthieu, age_matthieu)\n",
    "se_presenter(prenom_nadege, age_nadege)"
   ]
  },
  {
   "cell_type": "code",
   "execution_count": null,
   "id": "1618e2f2",
   "metadata": {},
   "outputs": [],
   "source": []
  }
 ],
 "metadata": {
  "kernelspec": {
   "display_name": "Python 3 (ipykernel)",
   "language": "python",
   "name": "python3"
  },
  "language_info": {
   "codemirror_mode": {
    "name": "ipython",
    "version": 3
   },
   "file_extension": ".py",
   "mimetype": "text/x-python",
   "name": "python",
   "nbconvert_exporter": "python",
   "pygments_lexer": "ipython3",
   "version": "3.9.9"
  }
 },
 "nbformat": 4,
 "nbformat_minor": 5
}
