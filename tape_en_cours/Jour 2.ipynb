{
 "cells": [
  {
   "cell_type": "markdown",
   "id": "ab9d066c",
   "metadata": {},
   "source": [
    "# Matin"
   ]
  },
  {
   "cell_type": "markdown",
   "id": "c1753c07",
   "metadata": {},
   "source": [
    "## Rappel du jour précédent"
   ]
  },
  {
   "cell_type": "markdown",
   "id": "335cf6cb",
   "metadata": {},
   "source": [
    "* historique du langage (créé par Guido Van Rossum en 1989)\n",
    "* python : syntaxe + interpréteur (on peut le changer selon "
   ]
  }
 ],
 "metadata": {
  "kernelspec": {
   "display_name": "Python 3 (ipykernel)",
   "language": "python",
   "name": "python3"
  },
  "language_info": {
   "codemirror_mode": {
    "name": "ipython",
    "version": 3
   },
   "file_extension": ".py",
   "mimetype": "text/x-python",
   "name": "python",
   "nbconvert_exporter": "python",
   "pygments_lexer": "ipython3",
   "version": "3.9.9"
  }
 },
 "nbformat": 4,
 "nbformat_minor": 5
}
