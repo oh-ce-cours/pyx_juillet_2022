{
 "cells": [
  {
   "cell_type": "markdown",
   "id": "1dda4e78",
   "metadata": {},
   "source": [
    "# Matin"
   ]
  },
  {
   "cell_type": "markdown",
   "id": "4d87e671",
   "metadata": {},
   "source": [
    "## Rappel du jour précédent"
   ]
  },
  {
   "cell_type": "markdown",
   "id": "d406a4db",
   "metadata": {},
   "source": [
    "* historique du langage (créé par Guido Van Rossum en 1989)\n",
    "* python : syntaxe + interpréteur (on peut le changer selon les besoins : CPython, Jython, IronPython, PyPy) + compilateur (Cython)\n",
    "* syntaxe facile d'accès\n",
    "* VSCode pour éditer les codes\n",
    "    * intégrer avec d'autres outils : black (formattage automatique du code), "
   ]
  }
 ],
 "metadata": {
  "kernelspec": {
   "display_name": "Python 3 (ipykernel)",
   "language": "python",
   "name": "python3"
  },
  "language_info": {
   "codemirror_mode": {
    "name": "ipython",
    "version": 3
   },
   "file_extension": ".py",
   "mimetype": "text/x-python",
   "name": "python",
   "nbconvert_exporter": "python",
   "pygments_lexer": "ipython3",
   "version": "3.9.9"
  }
 },
 "nbformat": 4,
 "nbformat_minor": 5
}
