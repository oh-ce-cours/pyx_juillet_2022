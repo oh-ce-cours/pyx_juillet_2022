{
 "cells": [
  {
   "cell_type": "markdown",
   "id": "db0e6c7c",
   "metadata": {},
   "source": [
    "# Matin"
   ]
  },
  {
   "cell_type": "markdown",
   "id": "0e0f7419",
   "metadata": {},
   "source": [
    "## Rappel du jour précédent"
   ]
  },
  {
   "cell_type": "markdown",
   "id": "bb27e557",
   "metadata": {},
   "source": [
    "* historique du langage (créé par Guido Van Rossum en 1989)\n",
    "* python : syntaxe + interpréteur (on peut le changer selon les besoins : CPython, Jython, IronPython, PyPy) + compilateur (Cython)\n",
    "* syntaxe facile d'accès\n",
    "* VSCode pour éditer les codes\n",
    "    * intégrer avec d'autres outils : black (formattage automatique du code), mypy + pylint (outils d'analyse statique, \"le collègue relou\") \n",
    "* modules\n",
    "    * qu'est-ce que c'est ? des fichiers python (on peut importer n'importe quel fichier .py tant qu'il est au bon endroit)\n",
    "    * 3 types de modules\n",
    "        * la bibliothèque standard : fourni avec python\n",
    "        * tierces : que l'on installe avec `pip` qui (par défaut) les télécharge depuis `PyPI`\n",
    "        * locales : des fichiers python placés où l'on veut (python va aller regarder dans le `PYTHONPATH`, que l'on peut voir avec `import sys; sys.path`)\n",
    "        \n",
    "* installation de modules\n",
    "    * on peut lister les bibliothèques installées avec pip en faisant `pip freeze > requirements.txt`\n",
    "    * on peut installer cette liste avec `pip install -r requirements.txt`\n",
    "\n",
    "* environnements virtuels\n",
    "    * "
   ]
  },
  {
   "cell_type": "code",
   "execution_count": null,
   "id": "8399100a",
   "metadata": {},
   "outputs": [],
   "source": []
  }
 ],
 "metadata": {
  "kernelspec": {
   "display_name": "Python 3 (ipykernel)",
   "language": "python",
   "name": "python3"
  },
  "language_info": {
   "codemirror_mode": {
    "name": "ipython",
    "version": 3
   },
   "file_extension": ".py",
   "mimetype": "text/x-python",
   "name": "python",
   "nbconvert_exporter": "python",
   "pygments_lexer": "ipython3",
   "version": "3.9.9"
  }
 },
 "nbformat": 4,
 "nbformat_minor": 5
}
