{
 "cells": [
  {
   "cell_type": "markdown",
   "id": "dbf9ada7",
   "metadata": {},
   "source": [
    "# Jour 3"
   ]
  },
  {
   "cell_type": "markdown",
   "id": "eae4a869",
   "metadata": {},
   "source": [
    "## Ressources pour aller plus loin\n",
    "\n",
    "* https://realpython.com/ \n",
    "* https://sametmax.oprax.fr/category/programmation (un peu NSFW, mais la partie developpement est très bien)\n",
    "* udacity (prendre un cours python gratuit)\n",
    "* fun-mooc (cours gratuit, un bon cours de python orienté débutant)\n",
    "* https://www.fun-mooc.fr/fr/cours/python-3-des-fondamentaux-aux-concepts-avances-du-langage/ "
   ]
  },
  {
   "cell_type": "markdown",
   "id": "1d7b3ca4",
   "metadata": {},
   "source": [
    "## Résumé d'hier"
   ]
  },
  {
   "cell_type": "markdown",
   "id": "ac3efabf",
   "metadata": {},
   "source": [
    "* exercices\n",
    "    * boucles for / while \n",
    "    * exceptions \n",
    "    * conditions\n",
    "* exceptions en pratique\n",
    "* envoi de mail\n",
    "* tests unitaires \n",
    "    * on peut facilement tester une fonction pure (pour une entrée donnée elle renvoie toujours le même résultat)\n",
    "    * des fonctions impures vont utiliser (entre autre) : des randoms, des appels au monde extérieur (fichiers, entrées utilisateurs, accès réseau, DB, telnet...)"
   ]
  },
  {
   "cell_type": "code",
   "execution_count": null,
   "id": "52398cbc",
   "metadata": {},
   "outputs": [],
   "source": [
    "def devine_le_nombre(nombre):\n",
    "    nombre_devine = input(\"Quel est le no\")"
   ]
  }
 ],
 "metadata": {
  "kernelspec": {
   "display_name": "Python 3 (ipykernel)",
   "language": "python",
   "name": "python3"
  },
  "language_info": {
   "codemirror_mode": {
    "name": "ipython",
    "version": 3
   },
   "file_extension": ".py",
   "mimetype": "text/x-python",
   "name": "python",
   "nbconvert_exporter": "python",
   "pygments_lexer": "ipython3",
   "version": "3.9.9"
  }
 },
 "nbformat": 4,
 "nbformat_minor": 5
}
