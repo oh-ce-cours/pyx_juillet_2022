{
 "cells": [
  {
   "cell_type": "markdown",
   "id": "10d5c161",
   "metadata": {},
   "source": [
    "# Jour 3"
   ]
  },
  {
   "cell_type": "markdown",
   "id": "066d9d43",
   "metadata": {},
   "source": [
    "## Ressources pour aller plus loin\n",
    "\n",
    "* https://realpython.com/ \n",
    "* https://sametmax.oprax.fr/category/programmation (un peu NSFW, mais la partie developpement est très bien)\n",
    "* udacity (prendre un cours python gratuit)\n",
    "* fun-mooc (cours gratuit, un bon cours de python orienté débutant)\n",
    "* https://www.fun-mooc.fr/fr/cours/python-3-des-fondamentaux-aux-concepts-avances-du-langage/ "
   ]
  },
  {
   "cell_type": "markdown",
   "id": "2574a9d0",
   "metadata": {},
   "source": [
    "## Résumé d'hier"
   ]
  },
  {
   "cell_type": "markdown",
   "id": "8bc69df2",
   "metadata": {},
   "source": [
    "* exercices\n",
    "    * boucles for / while \n",
    "    * exceptions \n",
    "    * conditions\n",
    "* exceptions en pratique\n",
    "* envoi de mail\n",
    "* tests unitaires \n",
    "    * on peut facilement tester une fonction pure (pour une entrée donnée elle renvoie toujours le même résultat)\n",
    "    * des fonctions impures vont ut"
   ]
  }
 ],
 "metadata": {
  "kernelspec": {
   "display_name": "Python 3 (ipykernel)",
   "language": "python",
   "name": "python3"
  },
  "language_info": {
   "codemirror_mode": {
    "name": "ipython",
    "version": 3
   },
   "file_extension": ".py",
   "mimetype": "text/x-python",
   "name": "python",
   "nbconvert_exporter": "python",
   "pygments_lexer": "ipython3",
   "version": "3.9.9"
  }
 },
 "nbformat": 4,
 "nbformat_minor": 5
}
