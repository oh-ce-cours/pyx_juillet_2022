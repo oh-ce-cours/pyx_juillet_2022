{
 "cells": [
  {
   "cell_type": "markdown",
   "id": "9e51e872",
   "metadata": {},
   "source": [
    "# Jour 3"
   ]
  },
  {
   "cell_type": "markdown",
   "id": "20fa83a4",
   "metadata": {},
   "source": [
    "## Ressources pour aller plus loin\n",
    "\n",
    "* https://realpython.com/ \n",
    "* https://sametmax.oprax.fr/category/programmation (un peu NSFW, mais la partie developpement est très bien)\n",
    "* udacity (prendre un cours python gratuit)\n",
    "* fun-mooc (cours gratuit, un bon cours de python orienté débutant)\n",
    "* https://www.fun-mooc.fr/fr/cours/python-3-des-fondamentaux-aux-concepts-avances-du-langage/ "
   ]
  },
  {
   "cell_type": "markdown",
   "id": "4ef11ef3",
   "metadata": {},
   "source": [
    "## Résumé d'hier"
   ]
  },
  {
   "cell_type": "markdown",
   "id": "f349b4e1",
   "metadata": {},
   "source": [
    "* exercices\n",
    "    * boucles for / while \n",
    "    * exceptions \n",
    "    * conditions\n",
    "* exceptions en pratique\n",
    "* envoi de mail\n",
    "* tests unitaires \n",
    "    * on peut facilement tester une fonction pure (pour une entrée donnée elle renvoie toujours le même résultat)\n",
    "    * des fonctions impures vont utiliser (entre autre) : des randoms, des appels au monde extérieur (fichiers, entrées utilisateurs, accès réseau, DB, telnet...)\n",
    "    * on peut \"toujours\" transformer des fonctions impures en fonctions pures\n",
    "        * on utilise le `mocking` pour modifier une fonction vers ce que l'on veut (https://stackoverflow.com/questions/35851323/how-to-test-a-function-with-input-call)\n",
    "        * on transforme notre fonction impure en fonction impure qui appelle une \"logique métier pure\" (voir code ci dessous)\n",
    "    * en python on peut utiliser `pytest` (à installer) pour avoir des tests unitaires automatisés\n",
    "         * fichiers et fonctions doivent avoir des noms commençant par `test_`\n",
    "         * on utilise des `assert` pour effectuer nos tests\n",
    "* protections de code appelés lors des imports / quand le fichier est appelé directement : `if __name__ == \"__main__\"` (https://stackoverflow.com/questions/419163/what-does-if-name-main-do)  \n",
    "* introduction à la POO (programation orientée objet)\n",
    "    * un objet est constitué de méthodes (fonctions) et attributs (variables)\n",
    "    * organisation du code, définir plusieurs couches d'abstraction, permet de définir des contrats"
   ]
  },
  {
   "cell_type": "code",
   "execution_count": 3,
   "id": "468db295",
   "metadata": {},
   "outputs": [
    {
     "name": "stdout",
     "output_type": "stream",
     "text": [
      "Quel est le nombre10\n",
      "True\n"
     ]
    }
   ],
   "source": [
    "def logique_metier_devine_le_nombre(nombre, nombre_devine):\n",
    "    return nombre_devine == nombre\n",
    "    \n",
    "\n",
    "def devine_le_nombre(nombre):\n",
    "    nombre_devine = int(input(\"Quel est le nombre\"))\n",
    "    return logique_metier_devine_le_nombre(nombre, nombre_devine)\n",
    "\n",
    "print(devine_le_nombre(10))"
   ]
  },
  {
   "cell_type": "markdown",
   "id": "18c1f729",
   "metadata": {},
   "source": [
    "# Paramètres par défaut de fonction"
   ]
  },
  {
   "cell_type": "code",
   "execution_count": null,
   "id": "472a867a",
   "metadata": {},
   "outputs": [],
   "source": [
    "def presentation(nom=\"Matthieu\"):\n",
    "    print(f\"Je suis {nom}\")\n",
    "\n",
    "presentation(nom=\"Thomas\")"
   ]
  },
  {
   "cell_type": "code",
   "execution_count": null,
   "id": "dae69288",
   "metadata": {},
   "outputs": [],
   "source": []
  }
 ],
 "metadata": {
  "kernelspec": {
   "display_name": "Python 3 (ipykernel)",
   "language": "python",
   "name": "python3"
  },
  "language_info": {
   "codemirror_mode": {
    "name": "ipython",
    "version": 3
   },
   "file_extension": ".py",
   "mimetype": "text/x-python",
   "name": "python",
   "nbconvert_exporter": "python",
   "pygments_lexer": "ipython3",
   "version": "3.9.9"
  }
 },
 "nbformat": 4,
 "nbformat_minor": 5
}
