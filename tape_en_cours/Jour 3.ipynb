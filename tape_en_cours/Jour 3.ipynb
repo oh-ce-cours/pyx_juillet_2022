{
 "cells": [
  {
   "cell_type": "markdown",
   "id": "34b3aeb0",
   "metadata": {},
   "source": [
    "# Jour 3"
   ]
  },
  {
   "cell_type": "markdown",
   "id": "d2ed4ebc",
   "metadata": {},
   "source": [
    "## Ressources pour aller plus loin\n",
    "\n",
    "* https://realpython.com/ \n",
    "* https://sametmax.oprax.fr/category/programmation (un peu NSFW, mais la partie developpement est très bien)\n",
    "* udacity (prendre un cours python gratuit)\n",
    "* fun-mooc (cours gratuit, un bon cours de python orienté débutant)\n",
    "* https://www.fun-mooc.fr/fr/cours/python-3-des-fondamentaux-aux-concepts-avances-du-langage/ "
   ]
  },
  {
   "cell_type": "markdown",
   "id": "e922ce4c",
   "metadata": {},
   "source": [
    "## Résumé d'hier"
   ]
  },
  {
   "cell_type": "markdown",
   "id": "b0018d5a",
   "metadata": {},
   "source": [
    "* exercices\n",
    "    * boucles for / while \n",
    "    * exceptions \n",
    "    * conditions\n",
    "* exceptions en pratique\n",
    "* envoi de mail\n",
    "* tests unitaires \n",
    "    * on peut facilement tester une fonction pure (pour une entrée donnée elle renvoie toujours le même résultat)\n",
    "    * des fonctions impures vont utiliser (entre autre) : des randoms, des appels au monde extérieur (fichiers, entrées utilisateurs, accès réseau, DB, telnet...)\n",
    "    * on peut \"toujours\" transformer des fonctions impures en fonctions pures\n",
    "        * on utilise le `mocking` pour modifier une fonction vers ce que l'on veut (https://stackoverflow.com/questions/35851323/how-to-test-a-function-with-input-call)\n",
    "        * "
   ]
  },
  {
   "cell_type": "code",
   "execution_count": 3,
   "id": "b7a62f39",
   "metadata": {},
   "outputs": [
    {
     "name": "stdout",
     "output_type": "stream",
     "text": [
      "Quel est le nombre10\n",
      "True\n"
     ]
    }
   ],
   "source": [
    "def logique_metier_devine_le_nombre(nombre, nombre_devine):\n",
    "    return nombre_devine == nombre\n",
    "    \n",
    "\n",
    "def devine_le_nombre(nombre):\n",
    "    nombre_devine = int(input(\"Quel est le nombre\"))\n",
    "    return logique_metier_devine_le_nombre(nombre, nombre_devine)\n",
    "\n",
    "print(devine_le_nombre(10))"
   ]
  },
  {
   "cell_type": "code",
   "execution_count": null,
   "id": "81baedc3",
   "metadata": {},
   "outputs": [],
   "source": []
  }
 ],
 "metadata": {
  "kernelspec": {
   "display_name": "Python 3 (ipykernel)",
   "language": "python",
   "name": "python3"
  },
  "language_info": {
   "codemirror_mode": {
    "name": "ipython",
    "version": 3
   },
   "file_extension": ".py",
   "mimetype": "text/x-python",
   "name": "python",
   "nbconvert_exporter": "python",
   "pygments_lexer": "ipython3",
   "version": "3.9.9"
  }
 },
 "nbformat": 4,
 "nbformat_minor": 5
}
