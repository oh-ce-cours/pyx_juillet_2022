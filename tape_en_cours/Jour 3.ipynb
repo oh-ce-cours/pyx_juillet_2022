{
 "cells": [
  {
   "cell_type": "markdown",
   "id": "dded135d",
   "metadata": {},
   "source": [
    "# Jour 3"
   ]
  },
  {
   "cell_type": "markdown",
   "id": "47f050df",
   "metadata": {},
   "source": [
    "## Ressources pour aller plus loin\n",
    "\n",
    "* https://realpython.com/ \n",
    "* https://sametmax.oprax.fr/category/programmation (un peu NSFW, mais la partie developpement est très bien)\n",
    "* udacity (prendre un cours python gratuit)\n",
    "* fun-mooc (cours gratuit, un bon cours de python orienté débutant)\n",
    "* https://www.fun-mooc.fr/fr/cours/python-3-des-fondamentaux-aux-concepts-avances-du-langage/ "
   ]
  },
  {
   "cell_type": "code",
   "execution_count": null,
   "id": "a2ec2732",
   "metadata": {},
   "outputs": [],
   "source": []
  }
 ],
 "metadata": {
  "kernelspec": {
   "display_name": "Python 3 (ipykernel)",
   "language": "python",
   "name": "python3"
  },
  "language_info": {
   "codemirror_mode": {
    "name": "ipython",
    "version": 3
   },
   "file_extension": ".py",
   "mimetype": "text/x-python",
   "name": "python",
   "nbconvert_exporter": "python",
   "pygments_lexer": "ipython3",
   "version": "3.9.9"
  }
 },
 "nbformat": 4,
 "nbformat_minor": 5
}
