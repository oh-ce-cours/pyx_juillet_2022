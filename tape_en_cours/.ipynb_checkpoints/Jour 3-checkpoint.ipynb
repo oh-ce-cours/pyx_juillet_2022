{
 "cells": [
  {
   "cell_type": "markdown",
   "id": "9e51e872",
   "metadata": {},
   "source": [
    "# Jour 3"
   ]
  },
  {
   "cell_type": "markdown",
   "id": "20fa83a4",
   "metadata": {},
   "source": [
    "## Ressources pour aller plus loin\n",
    "\n",
    "* https://realpython.com/ \n",
    "* https://sametmax.oprax.fr/category/programmation (un peu NSFW, mais la partie developpement est très bien)\n",
    "* udacity (prendre un cours python gratuit)\n",
    "* fun-mooc (cours gratuit, un bon cours de python orienté débutant)\n",
    "* https://www.fun-mooc.fr/fr/cours/python-3-des-fondamentaux-aux-concepts-avances-du-langage/ "
   ]
  },
  {
   "cell_type": "markdown",
   "id": "4ef11ef3",
   "metadata": {},
   "source": [
    "## Résumé d'hier"
   ]
  },
  {
   "cell_type": "markdown",
   "id": "f349b4e1",
   "metadata": {},
   "source": [
    "* exercices\n",
    "    * boucles for / while \n",
    "    * exceptions \n",
    "    * conditions\n",
    "* exceptions en pratique\n",
    "* envoi de mail\n",
    "* tests unitaires \n",
    "    * on peut facilement tester une fonction pure (pour une entrée donnée elle renvoie toujours le même résultat)\n",
    "    * des fonctions impures vont utiliser (entre autre) : des randoms, des appels au monde extérieur (fichiers, entrées utilisateurs, accès réseau, DB, telnet...)\n",
    "    * on peut \"toujours\" transformer des fonctions impures en fonctions pures\n",
    "        * on utilise le `mocking` pour modifier une fonction vers ce que l'on veut (https://stackoverflow.com/questions/35851323/how-to-test-a-function-with-input-call)\n",
    "        * on transforme notre fonction impure en fonction impure qui appelle une \"logique métier pure\" (voir code ci dessous)\n",
    "    * en python on peut utiliser `pytest` (à installer) pour avoir des tests unitaires automatisés\n",
    "         * fichiers et fonctions doivent avoir des noms commençant par `test_`\n",
    "         * on utilise des `assert` pour effectuer nos tests\n",
    "* protections de code appelés lors des imports / quand le fichier est appelé directement : `if __name__ == \"__main__\"` (https://stackoverflow.com/questions/419163/what-does-if-name-main-do)  \n",
    "* introduction à la POO (programation orientée objet)\n",
    "    * un objet est constitué de méthodes (fonctions) et attributs (variables)\n",
    "    * organisation du code, définir plusieurs couches d'abstraction, permet de définir des contrats"
   ]
  },
  {
   "cell_type": "code",
   "execution_count": 3,
   "id": "468db295",
   "metadata": {},
   "outputs": [
    {
     "name": "stdout",
     "output_type": "stream",
     "text": [
      "Quel est le nombre10\n",
      "True\n"
     ]
    }
   ],
   "source": [
    "def logique_metier_devine_le_nombre(nombre, nombre_devine):\n",
    "    return nombre_devine == nombre\n",
    "    \n",
    "\n",
    "def devine_le_nombre(nombre):\n",
    "    nombre_devine = int(input(\"Quel est le nombre\"))\n",
    "    return logique_metier_devine_le_nombre(nombre, nombre_devine)\n",
    "\n",
    "print(devine_le_nombre(10))"
   ]
  },
  {
   "cell_type": "markdown",
   "id": "72dc4db9",
   "metadata": {},
   "source": [
    "## Paramètres par défaut de fonction"
   ]
  },
  {
   "cell_type": "code",
   "execution_count": null,
   "id": "4d380683",
   "metadata": {},
   "outputs": [],
   "source": [
    "def presentation(nom=\"Matthieu\"):\n",
    "    print(f\"Je suis {nom}\")\n",
    "\n",
    "presentation(nom=\"Thomas\")"
   ]
  },
  {
   "cell_type": "markdown",
   "id": "12b50492",
   "metadata": {},
   "source": [
    "## Manipulation de chaines de caractères"
   ]
  },
  {
   "cell_type": "code",
   "execution_count": 64,
   "id": "ad83aa11",
   "metadata": {},
   "outputs": [
    {
     "data": {
      "text/plain": [
       "['__add__',\n",
       " '__class__',\n",
       " '__contains__',\n",
       " '__delattr__',\n",
       " '__dir__',\n",
       " '__doc__',\n",
       " '__eq__',\n",
       " '__format__',\n",
       " '__ge__',\n",
       " '__getattribute__',\n",
       " '__getitem__',\n",
       " '__getnewargs__',\n",
       " '__gt__',\n",
       " '__hash__',\n",
       " '__init__',\n",
       " '__init_subclass__',\n",
       " '__iter__',\n",
       " '__le__',\n",
       " '__len__',\n",
       " '__lt__',\n",
       " '__mod__',\n",
       " '__mul__',\n",
       " '__ne__',\n",
       " '__new__',\n",
       " '__reduce__',\n",
       " '__reduce_ex__',\n",
       " '__repr__',\n",
       " '__rmod__',\n",
       " '__rmul__',\n",
       " '__setattr__',\n",
       " '__sizeof__',\n",
       " '__str__',\n",
       " '__subclasshook__',\n",
       " 'capitalize',\n",
       " 'casefold',\n",
       " 'center',\n",
       " 'count',\n",
       " 'encode',\n",
       " 'endswith',\n",
       " 'expandtabs',\n",
       " 'find',\n",
       " 'format',\n",
       " 'format_map',\n",
       " 'index',\n",
       " 'isalnum',\n",
       " 'isalpha',\n",
       " 'isascii',\n",
       " 'isdecimal',\n",
       " 'isdigit',\n",
       " 'isidentifier',\n",
       " 'islower',\n",
       " 'isnumeric',\n",
       " 'isprintable',\n",
       " 'isspace',\n",
       " 'istitle',\n",
       " 'isupper',\n",
       " 'join',\n",
       " 'ljust',\n",
       " 'lower',\n",
       " 'lstrip',\n",
       " 'maketrans',\n",
       " 'partition',\n",
       " 'removeprefix',\n",
       " 'removesuffix',\n",
       " 'replace',\n",
       " 'rfind',\n",
       " 'rindex',\n",
       " 'rjust',\n",
       " 'rpartition',\n",
       " 'rsplit',\n",
       " 'rstrip',\n",
       " 'split',\n",
       " 'splitlines',\n",
       " 'startswith',\n",
       " 'strip',\n",
       " 'swapcase',\n",
       " 'title',\n",
       " 'translate',\n",
       " 'upper',\n",
       " 'zfill']"
      ]
     },
     "execution_count": 64,
     "metadata": {},
     "output_type": "execute_result"
    }
   ],
   "source": [
    "chaine = \"   Salut je suis Matthieu   \"\n",
    "dir(chaine)"
   ]
  },
  {
   "cell_type": "code",
   "execution_count": 25,
   "id": "5cae7e8c",
   "metadata": {},
   "outputs": [
    {
     "data": {
      "text/plain": [
       "['Salut', 'je', 'suis', 'Matthieu']"
      ]
     },
     "execution_count": 25,
     "metadata": {},
     "output_type": "execute_result"
    }
   ],
   "source": [
    "chaine.split()"
   ]
  },
  {
   "cell_type": "code",
   "execution_count": 24,
   "id": "aa4ec516",
   "metadata": {},
   "outputs": [
    {
     "name": "stdout",
     "output_type": "stream",
     "text": [
      "Help on built-in function split:\n",
      "\n",
      "split(sep=None, maxsplit=-1) method of builtins.str instance\n",
      "    Return a list of the words in the string, using sep as the delimiter string.\n",
      "    \n",
      "    sep\n",
      "      The delimiter according which to split the string.\n",
      "      None (the default value) means split according to any whitespace,\n",
      "      and discard empty strings from the result.\n",
      "    maxsplit\n",
      "      Maximum number of splits to do.\n",
      "      -1 (the default value) means no limit.\n",
      "\n"
     ]
    }
   ],
   "source": [
    "help(chaine.split)"
   ]
  },
  {
   "cell_type": "code",
   "execution_count": 38,
   "id": "001c7547",
   "metadata": {},
   "outputs": [
    {
     "name": "stdout",
     "output_type": "stream",
     "text": [
      "Salut\n",
      "je\n",
      "suis\n",
      "Matthieu\n"
     ]
    }
   ],
   "source": [
    "for element in chaine.split():\n",
    "    print(element)"
   ]
  },
  {
   "cell_type": "code",
   "execution_count": 67,
   "id": "54a9478c",
   "metadata": {},
   "outputs": [
    {
     "ename": "IndexError",
     "evalue": "list index out of range",
     "output_type": "error",
     "traceback": [
      "\u001b[0;31m---------------------------------------------------------------------------\u001b[0m",
      "\u001b[0;31mIndexError\u001b[0m                                Traceback (most recent call last)",
      "Input \u001b[0;32mIn [67]\u001b[0m, in \u001b[0;36m<cell line: 1>\u001b[0;34m()\u001b[0m\n\u001b[0;32m----> 1\u001b[0m \u001b[43mchaine\u001b[49m\u001b[38;5;241;43m.\u001b[39;49m\u001b[43msplit\u001b[49m\u001b[43m(\u001b[49m\u001b[43m)\u001b[49m\u001b[43m[\u001b[49m\u001b[38;5;241;43m123\u001b[39;49m\u001b[43m]\u001b[49m\n",
      "\u001b[0;31mIndexError\u001b[0m: list index out of range"
     ]
    }
   ],
   "source": [
    "chaine.split()[123]"
   ]
  },
  {
   "cell_type": "code",
   "execution_count": 43,
   "id": "84870648",
   "metadata": {},
   "outputs": [
    {
     "data": {
      "text/plain": [
       "('   Salut je suis Matthieu   ', '   Salut je suis Matthieu')"
      ]
     },
     "execution_count": 43,
     "metadata": {},
     "output_type": "execute_result"
    }
   ],
   "source": [
    "chaine, chaine.rstrip()"
   ]
  },
  {
   "cell_type": "code",
   "execution_count": 54,
   "id": "889c5abf",
   "metadata": {},
   "outputs": [
    {
     "data": {
      "text/plain": [
       "'f'"
      ]
     },
     "execution_count": 54,
     "metadata": {},
     "output_type": "execute_result"
    }
   ],
   "source": [
    "chaine = \"abcdef\"\n",
    "chaine[-1]"
   ]
  },
  {
   "cell_type": "code",
   "execution_count": 89,
   "id": "7ef55511",
   "metadata": {},
   "outputs": [
    {
     "data": {
      "text/plain": [
       "'bcdefgh'"
      ]
     },
     "execution_count": 89,
     "metadata": {},
     "output_type": "execute_result"
    }
   ],
   "source": [
    "chaine = \"abcdefghi\"\n",
    "chaine[1:-1]"
   ]
  },
  {
   "cell_type": "code",
   "execution_count": 83,
   "id": "02a20635",
   "metadata": {},
   "outputs": [],
   "source": [
    "f = open(\"./exemple.py\")\n",
    "contenu = f.read()\n",
    "f.close()"
   ]
  },
  {
   "cell_type": "code",
   "execution_count": 87,
   "id": "6f163237",
   "metadata": {},
   "outputs": [
    {
     "data": {
      "text/plain": [
       "'print(sys.path)'"
      ]
     },
     "execution_count": 87,
     "metadata": {},
     "output_type": "execute_result"
    }
   ],
   "source": [
    "non_empty_lines = []\n",
    "for line in contenu.split(\"\\n\"):\n",
    "    if line:\n",
    "        non_empty_lines.append(line)    \n",
    "non_empty_lines[-1]"
   ]
  },
  {
   "cell_type": "code",
   "execution_count": 86,
   "id": "333843b7",
   "metadata": {},
   "outputs": [
    {
     "data": {
      "text/plain": [
       "'print(sys.path)'"
      ]
     },
     "execution_count": 86,
     "metadata": {},
     "output_type": "execute_result"
    }
   ],
   "source": [
    "non_empty_lines = [line for line in contenu.split(\"\\n\") if line]\n",
    "non_empty_lines[-1]"
   ]
  },
  {
   "cell_type": "markdown",
   "id": "364fd088",
   "metadata": {},
   "source": [
    "# Exercice logs meilisearch"
   ]
  },
  {
   "cell_type": "code",
   "execution_count": 109,
   "id": "ecf62514",
   "metadata": {},
   "outputs": [
    {
     "name": "stdout",
     "output_type": "stream",
     "text": [
      "Le serveur écoute sur le port : 7700\n",
      "Le serveur est à la version : 0.25.2\n"
     ]
    }
   ],
   "source": [
    "port = \"\"\n",
    "date = \"\"\n",
    "version = \"\"\n",
    "\n",
    "def extract_port_from_line(line):\n",
    "    return line.split(\":\")[-1][:-1]\n",
    "\n",
    "def extract_version_from_line(line):\n",
    "    return line.split(\"\\t\")[-1][1:-1]\n",
    "\n",
    "for line in open(\"../medias/administrationSysteme/analyseTexte/meilisearch.log\"):\n",
    "    line = line.strip()\n",
    "    if \"Server listening on:\" in line:\n",
    "        port = extract_port_from_line(line)\n",
    "    if \"Package version:\" in line:\n",
    "        version = extract_version_from_line(line)\n",
    "        \n",
    "print(f\"Le serveur écoute sur le port : {port}\")\n",
    "print(f\"Le serveur est à la version : {version}\")"
   ]
  },
  {
   "cell_type": "code",
   "execution_count": 103,
   "id": "5ee4a833",
   "metadata": {},
   "outputs": [
    {
     "data": {
      "text/plain": [
       "'0.25.2'"
      ]
     },
     "execution_count": 103,
     "metadata": {},
     "output_type": "execute_result"
    }
   ],
   "source": [
    "l = 'Package version:\t\"0.25.2\"'\n",
    "l.split(\"\\t\")[-1][1:-1]"
   ]
  },
  {
   "cell_type": "code",
   "execution_count": null,
   "id": "72ffeba2",
   "metadata": {},
   "outputs": [],
   "source": []
  }
 ],
 "metadata": {
  "kernelspec": {
   "display_name": "Python 3 (ipykernel)",
   "language": "python",
   "name": "python3"
  },
  "language_info": {
   "codemirror_mode": {
    "name": "ipython",
    "version": 3
   },
   "file_extension": ".py",
   "mimetype": "text/x-python",
   "name": "python",
   "nbconvert_exporter": "python",
   "pygments_lexer": "ipython3",
   "version": "3.9.9"
  }
 },
 "nbformat": 4,
 "nbformat_minor": 5
}
